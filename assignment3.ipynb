{
 "cells": [
  {
   "cell_type": "markdown",
   "id": "03d93a7c",
   "metadata": {},
   "source": [
    "Declaration: Include the following statement in the beginning of your report. I declare this is my own work in accordance with Seneca College’s Academic Policies.  No part has been copied manually or electronically from any other source (including web sites) or distributed to other students. \n",
    "\n",
    "Name: Efat Gorji    \n",
    "\n",
    "Student Number: 160504197 "
   ]
  },
  {
   "cell_type": "code",
   "execution_count": 1,
   "id": "41a040da",
   "metadata": {},
   "outputs": [],
   "source": [
    "import pandas as pd \n",
    "import numpy as np \n",
    "import matplotlib.pyplot as plt"
   ]
  },
  {
   "cell_type": "code",
   "execution_count": 2,
   "id": "8259112f",
   "metadata": {},
   "outputs": [
    {
     "data": {
      "text/html": [
       "<div>\n",
       "<style scoped>\n",
       "    .dataframe tbody tr th:only-of-type {\n",
       "        vertical-align: middle;\n",
       "    }\n",
       "\n",
       "    .dataframe tbody tr th {\n",
       "        vertical-align: top;\n",
       "    }\n",
       "\n",
       "    .dataframe thead th {\n",
       "        text-align: right;\n",
       "    }\n",
       "</style>\n",
       "<table border=\"1\" class=\"dataframe\">\n",
       "  <thead>\n",
       "    <tr style=\"text-align: right;\">\n",
       "      <th></th>\n",
       "      <th>0</th>\n",
       "      <th>1</th>\n",
       "      <th>2</th>\n",
       "      <th>3</th>\n",
       "      <th>4</th>\n",
       "      <th>5</th>\n",
       "      <th>6</th>\n",
       "      <th>7</th>\n",
       "      <th>8</th>\n",
       "      <th>9</th>\n",
       "      <th>...</th>\n",
       "      <th>22</th>\n",
       "      <th>23</th>\n",
       "      <th>24</th>\n",
       "      <th>25</th>\n",
       "      <th>26</th>\n",
       "      <th>27</th>\n",
       "      <th>28</th>\n",
       "      <th>29</th>\n",
       "      <th>30</th>\n",
       "      <th>31</th>\n",
       "    </tr>\n",
       "  </thead>\n",
       "  <tbody>\n",
       "    <tr>\n",
       "      <th>0</th>\n",
       "      <td>842302</td>\n",
       "      <td>M</td>\n",
       "      <td>17.99</td>\n",
       "      <td>10.38</td>\n",
       "      <td>122.80</td>\n",
       "      <td>1001.0</td>\n",
       "      <td>0.11840</td>\n",
       "      <td>0.27760</td>\n",
       "      <td>0.3001</td>\n",
       "      <td>0.14710</td>\n",
       "      <td>...</td>\n",
       "      <td>25.38</td>\n",
       "      <td>17.33</td>\n",
       "      <td>184.60</td>\n",
       "      <td>2019.0</td>\n",
       "      <td>0.1622</td>\n",
       "      <td>0.6656</td>\n",
       "      <td>0.7119</td>\n",
       "      <td>0.2654</td>\n",
       "      <td>0.4601</td>\n",
       "      <td>0.11890</td>\n",
       "    </tr>\n",
       "    <tr>\n",
       "      <th>1</th>\n",
       "      <td>842517</td>\n",
       "      <td>M</td>\n",
       "      <td>20.57</td>\n",
       "      <td>17.77</td>\n",
       "      <td>132.90</td>\n",
       "      <td>1326.0</td>\n",
       "      <td>0.08474</td>\n",
       "      <td>0.07864</td>\n",
       "      <td>0.0869</td>\n",
       "      <td>0.07017</td>\n",
       "      <td>...</td>\n",
       "      <td>24.99</td>\n",
       "      <td>23.41</td>\n",
       "      <td>158.80</td>\n",
       "      <td>1956.0</td>\n",
       "      <td>0.1238</td>\n",
       "      <td>0.1866</td>\n",
       "      <td>0.2416</td>\n",
       "      <td>0.1860</td>\n",
       "      <td>0.2750</td>\n",
       "      <td>0.08902</td>\n",
       "    </tr>\n",
       "    <tr>\n",
       "      <th>2</th>\n",
       "      <td>84300903</td>\n",
       "      <td>M</td>\n",
       "      <td>19.69</td>\n",
       "      <td>21.25</td>\n",
       "      <td>130.00</td>\n",
       "      <td>1203.0</td>\n",
       "      <td>0.10960</td>\n",
       "      <td>0.15990</td>\n",
       "      <td>0.1974</td>\n",
       "      <td>0.12790</td>\n",
       "      <td>...</td>\n",
       "      <td>23.57</td>\n",
       "      <td>25.53</td>\n",
       "      <td>152.50</td>\n",
       "      <td>1709.0</td>\n",
       "      <td>0.1444</td>\n",
       "      <td>0.4245</td>\n",
       "      <td>0.4504</td>\n",
       "      <td>0.2430</td>\n",
       "      <td>0.3613</td>\n",
       "      <td>0.08758</td>\n",
       "    </tr>\n",
       "    <tr>\n",
       "      <th>3</th>\n",
       "      <td>84348301</td>\n",
       "      <td>M</td>\n",
       "      <td>11.42</td>\n",
       "      <td>20.38</td>\n",
       "      <td>77.58</td>\n",
       "      <td>386.1</td>\n",
       "      <td>0.14250</td>\n",
       "      <td>0.28390</td>\n",
       "      <td>0.2414</td>\n",
       "      <td>0.10520</td>\n",
       "      <td>...</td>\n",
       "      <td>14.91</td>\n",
       "      <td>26.50</td>\n",
       "      <td>98.87</td>\n",
       "      <td>567.7</td>\n",
       "      <td>0.2098</td>\n",
       "      <td>0.8663</td>\n",
       "      <td>0.6869</td>\n",
       "      <td>0.2575</td>\n",
       "      <td>0.6638</td>\n",
       "      <td>0.17300</td>\n",
       "    </tr>\n",
       "    <tr>\n",
       "      <th>4</th>\n",
       "      <td>84358402</td>\n",
       "      <td>M</td>\n",
       "      <td>20.29</td>\n",
       "      <td>14.34</td>\n",
       "      <td>135.10</td>\n",
       "      <td>1297.0</td>\n",
       "      <td>0.10030</td>\n",
       "      <td>0.13280</td>\n",
       "      <td>0.1980</td>\n",
       "      <td>0.10430</td>\n",
       "      <td>...</td>\n",
       "      <td>22.54</td>\n",
       "      <td>16.67</td>\n",
       "      <td>152.20</td>\n",
       "      <td>1575.0</td>\n",
       "      <td>0.1374</td>\n",
       "      <td>0.2050</td>\n",
       "      <td>0.4000</td>\n",
       "      <td>0.1625</td>\n",
       "      <td>0.2364</td>\n",
       "      <td>0.07678</td>\n",
       "    </tr>\n",
       "  </tbody>\n",
       "</table>\n",
       "<p>5 rows × 32 columns</p>\n",
       "</div>"
      ],
      "text/plain": [
       "         0  1      2      3       4       5        6        7       8   \\\n",
       "0    842302  M  17.99  10.38  122.80  1001.0  0.11840  0.27760  0.3001   \n",
       "1    842517  M  20.57  17.77  132.90  1326.0  0.08474  0.07864  0.0869   \n",
       "2  84300903  M  19.69  21.25  130.00  1203.0  0.10960  0.15990  0.1974   \n",
       "3  84348301  M  11.42  20.38   77.58   386.1  0.14250  0.28390  0.2414   \n",
       "4  84358402  M  20.29  14.34  135.10  1297.0  0.10030  0.13280  0.1980   \n",
       "\n",
       "        9   ...     22     23      24      25      26      27      28      29  \\\n",
       "0  0.14710  ...  25.38  17.33  184.60  2019.0  0.1622  0.6656  0.7119  0.2654   \n",
       "1  0.07017  ...  24.99  23.41  158.80  1956.0  0.1238  0.1866  0.2416  0.1860   \n",
       "2  0.12790  ...  23.57  25.53  152.50  1709.0  0.1444  0.4245  0.4504  0.2430   \n",
       "3  0.10520  ...  14.91  26.50   98.87   567.7  0.2098  0.8663  0.6869  0.2575   \n",
       "4  0.10430  ...  22.54  16.67  152.20  1575.0  0.1374  0.2050  0.4000  0.1625   \n",
       "\n",
       "       30       31  \n",
       "0  0.4601  0.11890  \n",
       "1  0.2750  0.08902  \n",
       "2  0.3613  0.08758  \n",
       "3  0.6638  0.17300  \n",
       "4  0.2364  0.07678  \n",
       "\n",
       "[5 rows x 32 columns]"
      ]
     },
     "execution_count": 2,
     "metadata": {},
     "output_type": "execute_result"
    }
   ],
   "source": [
    "data=pd.read_csv(\"a3.csv\", header=None)\n",
    "data.head()"
   ]
  },
  {
   "cell_type": "code",
   "execution_count": 3,
   "id": "fddc65ba",
   "metadata": {},
   "outputs": [
    {
     "name": "stdout",
     "output_type": "stream",
     "text": [
      "<class 'pandas.core.frame.DataFrame'>\n",
      "RangeIndex: 569 entries, 0 to 568\n",
      "Data columns (total 32 columns):\n",
      " #   Column  Non-Null Count  Dtype  \n",
      "---  ------  --------------  -----  \n",
      " 0   0       569 non-null    int64  \n",
      " 1   1       569 non-null    object \n",
      " 2   2       569 non-null    float64\n",
      " 3   3       569 non-null    float64\n",
      " 4   4       569 non-null    float64\n",
      " 5   5       569 non-null    float64\n",
      " 6   6       569 non-null    float64\n",
      " 7   7       569 non-null    float64\n",
      " 8   8       569 non-null    float64\n",
      " 9   9       569 non-null    float64\n",
      " 10  10      569 non-null    float64\n",
      " 11  11      569 non-null    float64\n",
      " 12  12      569 non-null    float64\n",
      " 13  13      569 non-null    float64\n",
      " 14  14      569 non-null    float64\n",
      " 15  15      569 non-null    float64\n",
      " 16  16      569 non-null    float64\n",
      " 17  17      569 non-null    float64\n",
      " 18  18      569 non-null    float64\n",
      " 19  19      569 non-null    float64\n",
      " 20  20      569 non-null    float64\n",
      " 21  21      569 non-null    float64\n",
      " 22  22      569 non-null    float64\n",
      " 23  23      569 non-null    float64\n",
      " 24  24      569 non-null    float64\n",
      " 25  25      569 non-null    float64\n",
      " 26  26      569 non-null    float64\n",
      " 27  27      569 non-null    float64\n",
      " 28  28      569 non-null    float64\n",
      " 29  29      569 non-null    float64\n",
      " 30  30      569 non-null    float64\n",
      " 31  31      569 non-null    float64\n",
      "dtypes: float64(30), int64(1), object(1)\n",
      "memory usage: 142.4+ KB\n"
     ]
    }
   ],
   "source": [
    "data.info()"
   ]
  },
  {
   "cell_type": "code",
   "execution_count": 4,
   "id": "129e2d48",
   "metadata": {},
   "outputs": [
    {
     "data": {
      "text/plain": [
       "0    32\n",
       "dtype: int64"
      ]
     },
     "execution_count": 4,
     "metadata": {},
     "output_type": "execute_result"
    }
   ],
   "source": [
    "data.isnull().sum().value_counts()"
   ]
  },
  {
   "cell_type": "code",
   "execution_count": 5,
   "id": "75640e31",
   "metadata": {},
   "outputs": [
    {
     "data": {
      "text/plain": [
       "B    357\n",
       "M    212\n",
       "Name: 1, dtype: int64"
      ]
     },
     "execution_count": 5,
     "metadata": {},
     "output_type": "execute_result"
    }
   ],
   "source": [
    "data[1].value_counts()"
   ]
  },
  {
   "cell_type": "code",
   "execution_count": 6,
   "id": "0aaffd6b",
   "metadata": {},
   "outputs": [
    {
     "data": {
      "text/plain": [
       "<AxesSubplot:>"
      ]
     },
     "execution_count": 6,
     "metadata": {},
     "output_type": "execute_result"
    },
    {
     "data": {
      "image/png": "[encoded data removed]",
      "text/plain": [
       "<Figure size 432x288 with 1 Axes>"
      ]
     },
     "metadata": {
      "needs_background": "light"
     },
     "output_type": "display_data"
    }
   ],
   "source": [
    "data[1].value_counts().plot(kind='bar')"
   ]
  },
  {
   "cell_type": "markdown",
   "id": "a4cff6d0",
   "metadata": {},
   "source": [
    "## train and test set"
   ]
  },
  {
   "cell_type": "code",
   "execution_count": 7,
   "id": "3f3492df",
   "metadata": {},
   "outputs": [
    {
     "name": "stdout",
     "output_type": "stream",
     "text": [
      "455\n",
      "114\n"
     ]
    }
   ],
   "source": [
    "from sklearn.model_selection import train_test_split\n",
    "\n",
    "X=data.loc[:,2:31]\n",
    "y=data[1]\n",
    "\n",
    "X_train, X_test, y_train, y_test=train_test_split(X,y, test_size=0.2, random_state=0)\n",
    "print(len(X_train))\n",
    "print(len(X_test))"
   ]
  },
  {
   "cell_type": "code",
   "execution_count": 51,
   "id": "b79e2272",
   "metadata": {},
   "outputs": [],
   "source": [
    "from sklearn.preprocessing import StandardScaler\n",
    "scaler=StandardScaler()\n",
    "X_train_scaled=scaler.fit_transform(X_train)"
   ]
  },
  {
   "cell_type": "markdown",
   "id": "b4810b1d",
   "metadata": {},
   "source": [
    "## logistic regression"
   ]
  },
  {
   "cell_type": "code",
   "execution_count": 52,
   "id": "c847abd8",
   "metadata": {},
   "outputs": [
    {
     "name": "stdout",
     "output_type": "stream",
     "text": [
      "time to train logistic regression with all attributes: 0.03886842727661133\n"
     ]
    }
   ],
   "source": [
    "from sklearn.linear_model import LogisticRegression\n",
    "from sklearn.pipeline import Pipeline\n",
    "import time\n",
    "\n",
    "t1=time.time()\n",
    "\n",
    "model1=LogisticRegression(C=1, random_state=0)\n",
    "\n",
    "model1.fit(X_train_scaled, y_train)\n",
    "t2=time.time()\n",
    "lr_time=t2-t1\n",
    "print(\"time to train logistic regression with all attributes: {}\". format(lr_time))"
   ]
  },
  {
   "cell_type": "markdown",
   "id": "f9146282",
   "metadata": {},
   "source": [
    "## SVR"
   ]
  },
  {
   "cell_type": "code",
   "execution_count": 54,
   "id": "5c0c6472",
   "metadata": {},
   "outputs": [
    {
     "name": "stdout",
     "output_type": "stream",
     "text": [
      "time to train SVR with all attributes: 0.02001190185546875\n"
     ]
    }
   ],
   "source": [
    "from sklearn.svm import SVC\n",
    "model2=SVC(C=1, random_state=0, kernel='rbf', gamma='scale')\n",
    "t1=time.time()\n",
    "model2.fit(X_train_scaled, y_train)\n",
    "t2=time.time()\n",
    "svr_time=t2-t1\n",
    "print(\"time to train SVR with all attributes: {}\". format(svr_time))"
   ]
  },
  {
   "cell_type": "markdown",
   "id": "cfacab7d",
   "metadata": {},
   "source": [
    "## Random Forest"
   ]
  },
  {
   "cell_type": "code",
   "execution_count": 55,
   "id": "0442a184",
   "metadata": {},
   "outputs": [
    {
     "name": "stdout",
     "output_type": "stream",
     "text": [
      "time to train Random Forest with all attributes: 0.3980717658996582\n"
     ]
    }
   ],
   "source": [
    "from sklearn.ensemble import RandomForestClassifier\n",
    "model3= RandomForestClassifier(n_estimators=100, random_state=42, min_samples_split=10)\n",
    "t1=time.time()\n",
    "model3.fit(X_train_scaled, y_train)\n",
    "t2=time.time()\n",
    "rf_time=t2-t1\n",
    "print(\"time to train Random Forest with all attributes: {}\". format(rf_time))"
   ]
  },
  {
   "cell_type": "markdown",
   "id": "44c1b726",
   "metadata": {},
   "source": [
    "# models Evaluation"
   ]
  },
  {
   "cell_type": "markdown",
   "id": "e45ca993",
   "metadata": {},
   "source": [
    "### accuracy score"
   ]
  },
  {
   "cell_type": "code",
   "execution_count": 58,
   "id": "3023ffb9",
   "metadata": {},
   "outputs": [
    {
     "name": "stdout",
     "output_type": "stream",
     "text": [
      "LogisticRegression(C=1, random_state=0) accuracy score is: 0.989010989010989\n",
      "SVC(C=1, random_state=0) accuracy score is: 0.9846153846153847\n",
      "RandomForestClassifier(min_samples_split=10, random_state=42) accuracy score is: 0.9912087912087912\n"
     ]
    }
   ],
   "source": [
    "from sklearn.metrics import accuracy_score\n",
    "models=[model1, model2, model3]\n",
    "for model in models:\n",
    "    y_hat=model.predict(X_train_scaled)\n",
    "    score=accuracy_score(y_train, y_hat)\n",
    "    print(\"{} accuracy score is: {}\".format(model, score))\n",
    "    "
   ]
  },
  {
   "cell_type": "markdown",
   "id": "e7b0862a",
   "metadata": {},
   "source": [
    "### precision, recall, f1 "
   ]
  },
  {
   "cell_type": "code",
   "execution_count": 59,
   "id": "e5f2c431",
   "metadata": {},
   "outputs": [
    {
     "name": "stdout",
     "output_type": "stream",
     "text": [
      "LogisticRegression(C=1, random_state=0) accuracy measures: \n",
      "precision: 0.9938271604938271\n",
      "recall: 0.9757575757575757\n",
      "f1: 0.9847094801223242\n",
      "\n",
      "SVC(C=1, random_state=0) accuracy measures: \n",
      "precision: 0.99375\n",
      "recall: 0.9636363636363636\n",
      "f1: 0.9784615384615384\n",
      "\n",
      "RandomForestClassifier(min_samples_split=10, random_state=42) accuracy measures: \n",
      "precision: 0.9938650306748467\n",
      "recall: 0.9818181818181818\n",
      "f1: 0.9878048780487805\n",
      "\n"
     ]
    }
   ],
   "source": [
    "from sklearn.metrics import precision_score, recall_score, f1_score\n",
    "for model in models:\n",
    "    y_hat=model.predict(X_train_scaled)\n",
    "    precision=precision_score(y_train, y_hat,pos_label='M')\n",
    "    recall=recall_score(y_train, y_hat, pos_label='M')\n",
    "    f1=f1_score(y_train, y_hat, pos_label='M')\n",
    "    print(\"{} accuracy measures: \\nprecision: {}\\nrecall: {}\\nf1: {}\\n\".format(model, precision, recall, f1))"
   ]
  },
  {
   "cell_type": "markdown",
   "id": "6170bc7b",
   "metadata": {},
   "source": [
    "# dimensionality reduction"
   ]
  },
  {
   "cell_type": "markdown",
   "id": "0f7a2d94",
   "metadata": {},
   "source": [
    "### 95% explained variance "
   ]
  },
  {
   "cell_type": "markdown",
   "id": "5972585c",
   "metadata": {},
   "source": [
    "## fitting the models with reduced dimentions"
   ]
  },
  {
   "cell_type": "code",
   "execution_count": 61,
   "id": "88a7b833",
   "metadata": {},
   "outputs": [
    {
     "name": "stdout",
     "output_type": "stream",
     "text": [
      "time to train logistic regression with reducec attributes 95% explained variance: 0.02999734878540039\n"
     ]
    }
   ],
   "source": [
    "from sklearn.decomposition import PCA\n",
    "# logistic regression\n",
    "\n",
    "pca1=PCA(n_components=0.95, random_state=0)\n",
    "X_reduced1=pca1.fit_transform(X_train_scaled)\n",
    "\n",
    "t1=time.time()\n",
    "model1.fit(X_reduced1, y_train)\n",
    "t2=time.time()\n",
    "lr_time_red1=t2-t1\n",
    "print(\"time to train logistic regression with reducec attributes 95% explained variance: {}\". format(lr_time_red1))"
   ]
  },
  {
   "cell_type": "code",
   "execution_count": 62,
   "id": "821224e4",
   "metadata": {},
   "outputs": [
    {
     "data": {
      "text/plain": [
       "10"
      ]
     },
     "execution_count": 62,
     "metadata": {},
     "output_type": "execute_result"
    }
   ],
   "source": [
    "pca1.n_components_"
   ]
  },
  {
   "cell_type": "code",
   "execution_count": 63,
   "id": "7f83a598",
   "metadata": {},
   "outputs": [
    {
     "data": {
      "text/plain": [
       "array([0.43430767, 0.19740115, 0.09351771, 0.06677661, 0.05642452,\n",
       "       0.04071619, 0.02149254, 0.01512693, 0.01396763, 0.01160092])"
      ]
     },
     "execution_count": 63,
     "metadata": {},
     "output_type": "execute_result"
    }
   ],
   "source": [
    "pca1.explained_variance_ratio_\n"
   ]
  },
  {
   "cell_type": "code",
   "execution_count": 64,
   "id": "48e352c2",
   "metadata": {},
   "outputs": [
    {
     "name": "stdout",
     "output_type": "stream",
     "text": [
      "time to train SVM with reducec attributes 95% explained variance: 0.019041061401367188\n"
     ]
    }
   ],
   "source": [
    "# SVR\n",
    "\n",
    "t1=time.time()\n",
    "model2.fit(X_reduced1, y_train)\n",
    "t2=time.time()\n",
    "svr_time_red1=t2-t1\n",
    "print(\"time to train SVM with reducec attributes 95% explained variance: {}\". format(svr_time_red1))"
   ]
  },
  {
   "cell_type": "code",
   "execution_count": 65,
   "id": "d62d13eb",
   "metadata": {},
   "outputs": [
    {
     "name": "stdout",
     "output_type": "stream",
     "text": [
      "time to train Random Forest with reducec attributes 95% explained variance: 0.37407708168029785\n"
     ]
    }
   ],
   "source": [
    "# Random Forest\n",
    "\n",
    "t1=time.time()\n",
    "model3.fit(X_reduced1, y_train)\n",
    "t2=time.time()\n",
    "rf_time_red1=t2-t1\n",
    "print(\"time to train Random Forest with reducec attributes 95% explained variance: {}\". format(rf_time_red1))"
   ]
  },
  {
   "cell_type": "markdown",
   "id": "ac607e1e",
   "metadata": {},
   "source": [
    "### dimensionality equal 2"
   ]
  },
  {
   "cell_type": "markdown",
   "id": "64380d90",
   "metadata": {},
   "source": [
    "### fitting the models based on 2 variables"
   ]
  },
  {
   "cell_type": "code",
   "execution_count": 66,
   "id": "db151363",
   "metadata": {},
   "outputs": [
    {
     "name": "stdout",
     "output_type": "stream",
     "text": [
      "time to train logistic regression with reducec attributes to 2: 0.02999734878540039\n"
     ]
    }
   ],
   "source": [
    "# logistic regression\n",
    "\n",
    "pca2=PCA(n_components=2, random_state=0)\n",
    "\n",
    "X_reduced2=pca2.fit_transform(X_train_scaled)\n",
    "\n",
    "t1=time.time()\n",
    "model1.fit(X_reduced2, y_train)\n",
    "t2=time.time()\n",
    "lr_time_red2=t2-t1\n",
    "print(\"time to train logistic regression with reducec attributes to 2: {}\". format(lr_time_red1))"
   ]
  },
  {
   "cell_type": "code",
   "execution_count": 67,
   "id": "9813d7e4",
   "metadata": {},
   "outputs": [
    {
     "data": {
      "text/plain": [
       "2"
      ]
     },
     "execution_count": 67,
     "metadata": {},
     "output_type": "execute_result"
    }
   ],
   "source": [
    "pca2.n_components_"
   ]
  },
  {
   "cell_type": "code",
   "execution_count": 68,
   "id": "721891fe",
   "metadata": {},
   "outputs": [
    {
     "data": {
      "text/plain": [
       "array([0.43430767, 0.19740115])"
      ]
     },
     "execution_count": 68,
     "metadata": {},
     "output_type": "execute_result"
    }
   ],
   "source": [
    "pca2.explained_variance_ratio_"
   ]
  },
  {
   "cell_type": "code",
   "execution_count": 69,
   "id": "50121f45",
   "metadata": {},
   "outputs": [
    {
     "name": "stdout",
     "output_type": "stream",
     "text": [
      "time to train SVR with reducec attributes to 2: 0.012913227081298828\n"
     ]
    }
   ],
   "source": [
    "# SVR\n",
    "\n",
    "t1=time.time()\n",
    "model2.fit(X_reduced2, y_train)\n",
    "t2=time.time()\n",
    "svr_time_red2=t2-t1\n",
    "print(\"time to train SVR with reducec attributes to 2: {}\". format(svr_time_red2))"
   ]
  },
  {
   "cell_type": "code",
   "execution_count": 70,
   "id": "b66d94f2",
   "metadata": {},
   "outputs": [
    {
     "name": "stdout",
     "output_type": "stream",
     "text": [
      "time to train Random Forest with reducec attributes to 2: 0.17724132537841797\n"
     ]
    }
   ],
   "source": [
    "# Random Forest\n",
    "model3_reduced2= Pipeline([('scaler', StandardScaler()),\n",
    "                          ('pca2', PCA(n_components=2, random_state=0)),\n",
    "                          ('randforest', RandomForestClassifier(n_estimators=100, random_state=42, min_samples_split=10))])\n",
    "t1=time.time()\n",
    "model3.fit(X_reduced2, y_train)\n",
    "t2=time.time()\n",
    "rf_time_red2=t2-t1\n",
    "print(\"time to train Random Forest with reducec attributes to 2: {}\". format(rf_time_red2))"
   ]
  },
  {
   "cell_type": "code",
   "execution_count": 71,
   "id": "bd341087",
   "metadata": {},
   "outputs": [
    {
     "data": {
      "text/plain": [
       "<AxesSubplot:>"
      ]
     },
     "execution_count": 71,
     "metadata": {},
     "output_type": "execute_result"
    },
    {
     "data": {
      "image/png": "[encoded data removed]",
      "text/plain": [
       "<Figure size 432x288 with 1 Axes>"
      ]
     },
     "metadata": {
      "needs_background": "light"
     },
     "output_type": "display_data"
    }
   ],
   "source": [
    "import seaborn as sns\n",
    "\n",
    "sns.scatterplot(x=X_reduced2[:,0], y=X_reduced2[:,1], hue=y_train, s=30)"
   ]
  },
  {
   "cell_type": "markdown",
   "id": "91d0b340",
   "metadata": {},
   "source": [
    "## kernel pca"
   ]
  },
  {
   "cell_type": "code",
   "execution_count": 72,
   "id": "0f339e77",
   "metadata": {},
   "outputs": [
    {
     "data": {
      "text/plain": [
       "<AxesSubplot:>"
      ]
     },
     "execution_count": 72,
     "metadata": {},
     "output_type": "execute_result"
    },
    {
     "data": {
      "image/png": "[encoded data removed]",
      "text/plain": [
       "<Figure size 432x288 with 1 Axes>"
      ]
     },
     "metadata": {
      "needs_background": "light"
     },
     "output_type": "display_data"
    }
   ],
   "source": [
    "from sklearn.decomposition import KernelPCA\n",
    "import seaborn as sns\n",
    "\n",
    "pca_kernel= KernelPCA(n_components=2, kernel=\"rbf\", gamma=0.04)\n",
    "\n",
    "X_reduced_kernel = pca_kernel.fit_transform(X_train_scaled)\n",
    "\n",
    "sns.scatterplot(x=X_reduced_kernel[:,0], y=X_reduced_kernel[:,1] , hue=y_train)"
   ]
  },
  {
   "cell_type": "markdown",
   "id": "9524fce2",
   "metadata": {},
   "source": [
    "## LLE"
   ]
  },
  {
   "cell_type": "code",
   "execution_count": 73,
   "id": "bcc22451",
   "metadata": {},
   "outputs": [
    {
     "data": {
      "text/plain": [
       "<AxesSubplot:>"
      ]
     },
     "execution_count": 73,
     "metadata": {},
     "output_type": "execute_result"
    },
    {
     "data": {
      "image/png": "[encoded data removed]",
      "text/plain": [
       "<Figure size 432x288 with 1 Axes>"
      ]
     },
     "metadata": {
      "needs_background": "light"
     },
     "output_type": "display_data"
    }
   ],
   "source": [
    "from sklearn.manifold import LocallyLinearEmbedding\n",
    "\n",
    "lle= LocallyLinearEmbedding(n_components=2, n_neighbors=8)\n",
    "\n",
    "X_reduced_lle = lle.fit_transform(X_train_scaled)\n",
    "\n",
    "sns.scatterplot(x=X_reduced_lle[:,0], y=X_reduced_lle[:,1], hue=y_train)"
   ]
  },
  {
   "cell_type": "markdown",
   "id": "9c858e48",
   "metadata": {},
   "source": [
    "# the best fitted model"
   ]
  },
  {
   "cell_type": "markdown",
   "id": "2caed269",
   "metadata": {},
   "source": [
    "## Random Forest"
   ]
  },
  {
   "cell_type": "markdown",
   "id": "87df6731",
   "metadata": {},
   "source": [
    "### predicting based on the whole data dimensions"
   ]
  },
  {
   "cell_type": "code",
   "execution_count": 75,
   "id": "dc8bcb71",
   "metadata": {},
   "outputs": [],
   "source": [
    "X_test_scaled= scaler.transform(X_test)\n",
    "model3.fit(X_train_scaled, y_train)\n",
    "randforest_pred_test=model3.predict(X_test_scaled)"
   ]
  },
  {
   "cell_type": "code",
   "execution_count": 76,
   "id": "e37d0ef7",
   "metadata": {},
   "outputs": [
    {
     "name": "stdout",
     "output_type": "stream",
     "text": [
      "the accuracy score of random forest on the test set: 0.9473684210526315\n"
     ]
    }
   ],
   "source": [
    "print(\"the accuracy score of random forest on the test set: {}\".format(accuracy_score(y_test,randforest_pred_test)))"
   ]
  },
  {
   "cell_type": "code",
   "execution_count": 77,
   "id": "c182390b",
   "metadata": {},
   "outputs": [
    {
     "name": "stdout",
     "output_type": "stream",
     "text": [
      "precision of the model on test set: 0.9361702127659575\n",
      "recall of the model on test set: 0.9361702127659575\n",
      "f1 of the model on test set: 0.9361702127659575\n"
     ]
    }
   ],
   "source": [
    "print(\"precision of the model on test set: {}\".format(precision_score(y_test,randforest_pred_test, pos_label='M')))\n",
    "print(\"recall of the model on test set: {}\".format(recall_score(y_test,randforest_pred_test, pos_label='M')))\n",
    "print(\"f1 of the model on test set: {}\".format(f1_score(y_test,randforest_pred_test, pos_label='M')))"
   ]
  },
  {
   "cell_type": "markdown",
   "id": "5c486587",
   "metadata": {},
   "source": [
    "### predicting based on the reduced dimensionality with 2 components"
   ]
  },
  {
   "cell_type": "code",
   "execution_count": 78,
   "id": "c8682495",
   "metadata": {},
   "outputs": [],
   "source": [
    "model3.fit(X_reduced2, y_train)\n",
    "X_test_reduced2=pca2.transform(X_test_scaled)\n",
    "randforest_pred_test_reduced=model3.predict(X_test_reduced2)"
   ]
  },
  {
   "cell_type": "code",
   "execution_count": 79,
   "id": "893fd81e",
   "metadata": {},
   "outputs": [
    {
     "name": "stdout",
     "output_type": "stream",
     "text": [
      "accuracy of the model with the reduced dimensions test set: 0.9210526315789473\n"
     ]
    }
   ],
   "source": [
    "print(\"accuracy of the model with the reduced dimensions test set: {}\".format(accuracy_score(y_test,randforest_pred_test_reduced)))"
   ]
  },
  {
   "cell_type": "code",
   "execution_count": 80,
   "id": "b166b91c",
   "metadata": {},
   "outputs": [
    {
     "name": "stdout",
     "output_type": "stream",
     "text": [
      "precision of the model with the reduced dimensions test set: 0.8958333333333334\n",
      "recall of the model with the reduced dimensions test set: 0.9148936170212766\n",
      "f1 of the model with the reduced dimensions test set: 0.9148936170212766\n"
     ]
    }
   ],
   "source": [
    "print(\"precision of the model with the reduced dimensions test set: {}\".format(precision_score(y_test,randforest_pred_test_reduced, pos_label='M')))\n",
    "print(\"recall of the model with the reduced dimensions test set: {}\".format(recall_score(y_test, randforest_pred_test_reduced, pos_label='M')))\n",
    "print(\"f1 of the model with the reduced dimensions test set: {}\".format(recall_score(y_test, randforest_pred_test_reduced, pos_label='M')))"
   ]
  }
 ],
 "metadata": {
  "kernelspec": {
   "display_name": "Python 3",
   "language": "python",
   "name": "python3"
  },
  "language_info": {
   "codemirror_mode": {
    "name": "ipython",
    "version": 3
   },
   "file_extension": ".py",
   "mimetype": "text/x-python",
   "name": "python",
   "nbconvert_exporter": "python",
   "pygments_lexer": "ipython3",
   "version": "3.8.8"
  }
 },
 "nbformat": 4,
 "nbformat_minor": 5
}
